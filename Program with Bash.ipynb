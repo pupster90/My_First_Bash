{
 "cells": [
  {
   "cell_type": "markdown",
   "metadata": {},
   "source": [
    "# Install Python Tools\n"
   ]
  },
  {
   "cell_type": "code",
   "execution_count": null,
   "metadata": {},
   "outputs": [],
   "source": [
    "!ls"
   ]
  },
  {
   "cell_type": "code",
   "execution_count": null,
   "metadata": {},
   "outputs": [],
   "source": [
    "!pip install wasabi"
   ]
  },
  {
   "cell_type": "code",
   "execution_count": null,
   "metadata": {},
   "outputs": [],
   "source": [
    "import wasabi"
   ]
  },
  {
   "cell_type": "markdown",
   "metadata": {},
   "source": [
    "# Save Username"
   ]
  },
  {
   "cell_type": "code",
   "execution_count": null,
   "metadata": {},
   "outputs": [],
   "source": [
    "!echo \"user1\" > username"
   ]
  },
  {
   "cell_type": "code",
   "execution_count": null,
   "metadata": {},
   "outputs": [],
   "source": [
    "!cat username"
   ]
  },
  {
   "cell_type": "code",
   "execution_count": null,
   "metadata": {},
   "outputs": [],
   "source": [
    "from ipywidgets import *"
   ]
  },
  {
   "cell_type": "code",
   "execution_count": null,
   "metadata": {},
   "outputs": [],
   "source": [
    "@interact_manual( username=\"\" )\n",
    "def saveUser( username ):\n",
    "    ! echo \"{username}\" > username"
   ]
  },
  {
   "cell_type": "markdown",
   "metadata": {},
   "source": [
    "# Get Username"
   ]
  },
  {
   "cell_type": "code",
   "execution_count": null,
   "metadata": {},
   "outputs": [],
   "source": [
    "@interact_manual()\n",
    "def getUser():\n",
    "    !cat username"
   ]
  },
  {
   "cell_type": "code",
   "execution_count": null,
   "metadata": {},
   "outputs": [],
   "source": []
  }
 ],
 "metadata": {
  "hide_input": false,
  "kernelspec": {
   "display_name": "Python 3",
   "language": "python",
   "name": "python3"
  },
  "language_info": {
   "codemirror_mode": {
    "name": "ipython",
    "version": 3
   },
   "file_extension": ".py",
   "mimetype": "text/x-python",
   "name": "python",
   "nbconvert_exporter": "python",
   "pygments_lexer": "ipython3",
   "version": "3.6.6"
  },
  "toc": {
   "base_numbering": 1,
   "nav_menu": {},
   "number_sections": true,
   "sideBar": true,
   "skip_h1_title": false,
   "title_cell": "Table of Contents",
   "title_sidebar": "Contents",
   "toc_cell": false,
   "toc_position": {},
   "toc_section_display": true,
   "toc_window_display": false
  },
  "varInspector": {
   "cols": {
    "lenName": 16,
    "lenType": 16,
    "lenVar": 40
   },
   "kernels_config": {
    "python": {
     "delete_cmd_postfix": "",
     "delete_cmd_prefix": "del ",
     "library": "var_list.py",
     "varRefreshCmd": "print(var_dic_list())"
    },
    "r": {
     "delete_cmd_postfix": ") ",
     "delete_cmd_prefix": "rm(",
     "library": "var_list.r",
     "varRefreshCmd": "cat(var_dic_list()) "
    }
   },
   "types_to_exclude": [
    "module",
    "function",
    "builtin_function_or_method",
    "instance",
    "_Feature"
   ],
   "window_display": false
  },
  "widgets": {
   "application/vnd.jupyter.widget-state+json": {
    "state": {
     "0171a09ab17c42989d9419818645be49": {
      "model_module": "@jupyter-widgets/base",
      "model_module_version": "1.0.0",
      "model_name": "LayoutModel",
      "state": {}
     },
     "0394c80e442749ca842401d5798f17da": {
      "model_module": "@jupyter-widgets/output",
      "model_module_version": "1.0.0",
      "model_name": "OutputModel",
      "state": {
       "layout": "IPY_MODEL_d840acea1f9246408f77655315fbe268",
       "outputs": [
        {
         "name": "stdout",
         "output_type": "stream",
         "text": "checkit\r\n"
        }
       ]
      }
     },
     "05a4c9ec72e04100be4aef15cd483cb5": {
      "model_module": "@jupyter-widgets/controls",
      "model_module_version": "1.2.0",
      "model_name": "ButtonStyleModel",
      "state": {}
     },
     "080424dff5cc4c9aa70a509803b11256": {
      "model_module": "@jupyter-widgets/controls",
      "model_module_version": "1.2.0",
      "model_name": "VBoxModel",
      "state": {
       "_dom_classes": [
        "widget-interact"
       ],
       "children": [
        "IPY_MODEL_1d7bc99c8e6b44bda86f52aa4ea57a4c",
        "IPY_MODEL_2335046d2b434482a1b984841acdbeb8"
       ],
       "layout": "IPY_MODEL_7968326ebbc94bad858e63ca0d124c39"
      }
     },
     "11631cf39e0f4ec58ee7fb490b8197b4": {
      "model_module": "@jupyter-widgets/base",
      "model_module_version": "1.0.0",
      "model_name": "LayoutModel",
      "state": {}
     },
     "1b0f6186df1d4035a1aadf33c00e3373": {
      "model_module": "@jupyter-widgets/controls",
      "model_module_version": "1.2.0",
      "model_name": "ButtonModel",
      "state": {
       "description": "Run Interact",
       "layout": "IPY_MODEL_69518213fa6541c59431efa7d9764cfc",
       "style": "IPY_MODEL_fa00d413d59a453e9d68a6acfc977456"
      }
     },
     "1b69e675d7ff46699f0c9923bcd49ded": {
      "model_module": "@jupyter-widgets/controls",
      "model_module_version": "1.2.0",
      "model_name": "ButtonModel",
      "state": {
       "description": "Run Interact",
       "layout": "IPY_MODEL_fa65aac5f18d414db268f46b4b564c54",
       "style": "IPY_MODEL_a96d4666bc9341b4921a4f814b5f305d"
      }
     },
     "1d7bc99c8e6b44bda86f52aa4ea57a4c": {
      "model_module": "@jupyter-widgets/controls",
      "model_module_version": "1.2.0",
      "model_name": "ButtonModel",
      "state": {
       "description": "Run Interact",
       "layout": "IPY_MODEL_280e1ace56a043668efab4e9e91bc3ea",
       "style": "IPY_MODEL_6e34b4dd9b614bc68bd67a411c9b7a0d"
      }
     },
     "1f0d32a13fbe4b60a7f6149242de845a": {
      "model_module": "@jupyter-widgets/controls",
      "model_module_version": "1.2.0",
      "model_name": "ButtonModel",
      "state": {
       "description": "Run Interact",
       "layout": "IPY_MODEL_4635ce1089df41718929b90bff42fdda",
       "style": "IPY_MODEL_5cd376bf9fd44a3eafb0d12f47962c78"
      }
     },
     "222b17924c5a41f3b93de33064a38a6b": {
      "model_module": "@jupyter-widgets/controls",
      "model_module_version": "1.2.0",
      "model_name": "VBoxModel",
      "state": {
       "_dom_classes": [
        "widget-interact"
       ],
       "children": [
        "IPY_MODEL_c12c81d3c8cc4704a506a2edacdf0e4e",
        "IPY_MODEL_987ac36c635046c49f14a8f8573f209e",
        "IPY_MODEL_a2672a154c5d454794d2cc1d72cc57d3"
       ],
       "layout": "IPY_MODEL_2e6a6770b20342b4a983d8503e24bb8e"
      }
     },
     "2282f1c1803b48bf979dc9de6538a6fa": {
      "model_module": "@jupyter-widgets/output",
      "model_module_version": "1.0.0",
      "model_name": "OutputModel",
      "state": {
       "layout": "IPY_MODEL_4db0a4ed670442e0ac45d32968a9ae20"
      }
     },
     "2335046d2b434482a1b984841acdbeb8": {
      "model_module": "@jupyter-widgets/output",
      "model_module_version": "1.0.0",
      "model_name": "OutputModel",
      "state": {
       "layout": "IPY_MODEL_bf04c4a72ea4461486923a5e1c8f20dc"
      }
     },
     "280e1ace56a043668efab4e9e91bc3ea": {
      "model_module": "@jupyter-widgets/base",
      "model_module_version": "1.0.0",
      "model_name": "LayoutModel",
      "state": {}
     },
     "2996e4a205e748e8bc0e36119d993ed9": {
      "model_module": "@jupyter-widgets/base",
      "model_module_version": "1.0.0",
      "model_name": "LayoutModel",
      "state": {}
     },
     "2c5b9d30b71e471883d99b50ede78a50": {
      "model_module": "@jupyter-widgets/controls",
      "model_module_version": "1.2.0",
      "model_name": "DescriptionStyleModel",
      "state": {
       "description_width": ""
      }
     },
     "2e6a6770b20342b4a983d8503e24bb8e": {
      "model_module": "@jupyter-widgets/base",
      "model_module_version": "1.0.0",
      "model_name": "LayoutModel",
      "state": {}
     },
     "2ff9ebbc32694d2395d78a1ddcee6e5a": {
      "model_module": "@jupyter-widgets/base",
      "model_module_version": "1.0.0",
      "model_name": "LayoutModel",
      "state": {}
     },
     "31ada6c1f3f443f4823b36e16d21b5fa": {
      "model_module": "@jupyter-widgets/controls",
      "model_module_version": "1.2.0",
      "model_name": "VBoxModel",
      "state": {
       "_dom_classes": [
        "widget-interact"
       ],
       "children": [
        "IPY_MODEL_1b69e675d7ff46699f0c9923bcd49ded",
        "IPY_MODEL_0394c80e442749ca842401d5798f17da"
       ],
       "layout": "IPY_MODEL_b777645d6220487abe8236fb6fbe5120"
      }
     },
     "3538b78a8ca142f2bee8cddbb36b2442": {
      "model_module": "@jupyter-widgets/base",
      "model_module_version": "1.0.0",
      "model_name": "LayoutModel",
      "state": {}
     },
     "37542c9db15b431e81b5fb292f9af1f1": {
      "model_module": "@jupyter-widgets/base",
      "model_module_version": "1.0.0",
      "model_name": "LayoutModel",
      "state": {}
     },
     "3e5a9b7c8937461599116356de004c1b": {
      "model_module": "@jupyter-widgets/base",
      "model_module_version": "1.0.0",
      "model_name": "LayoutModel",
      "state": {}
     },
     "4635ce1089df41718929b90bff42fdda": {
      "model_module": "@jupyter-widgets/base",
      "model_module_version": "1.0.0",
      "model_name": "LayoutModel",
      "state": {}
     },
     "47613df6606f4e9caa6ac9a2cc3109ec": {
      "model_module": "@jupyter-widgets/controls",
      "model_module_version": "1.2.0",
      "model_name": "DescriptionStyleModel",
      "state": {
       "description_width": ""
      }
     },
     "4db0a4ed670442e0ac45d32968a9ae20": {
      "model_module": "@jupyter-widgets/base",
      "model_module_version": "1.0.0",
      "model_name": "LayoutModel",
      "state": {}
     },
     "5c69f7762b3f4673b35827444545d8b0": {
      "model_module": "@jupyter-widgets/controls",
      "model_module_version": "1.2.0",
      "model_name": "VBoxModel",
      "state": {
       "_dom_classes": [
        "widget-interact"
       ],
       "children": [
        "IPY_MODEL_5ddf21afe14345a789abeaf2f3b63b51",
        "IPY_MODEL_1f0d32a13fbe4b60a7f6149242de845a",
        "IPY_MODEL_e0b39f7f3dbf4f81bff68e7a4df63721"
       ],
       "layout": "IPY_MODEL_2ff9ebbc32694d2395d78a1ddcee6e5a"
      }
     },
     "5cd376bf9fd44a3eafb0d12f47962c78": {
      "model_module": "@jupyter-widgets/controls",
      "model_module_version": "1.2.0",
      "model_name": "ButtonStyleModel",
      "state": {}
     },
     "5ddf21afe14345a789abeaf2f3b63b51": {
      "model_module": "@jupyter-widgets/controls",
      "model_module_version": "1.2.0",
      "model_name": "TextModel",
      "state": {
       "description": "username",
       "layout": "IPY_MODEL_37542c9db15b431e81b5fb292f9af1f1",
       "style": "IPY_MODEL_e985b50002ca45b48e9d0fd1bd7be38f",
       "value": "checkit"
      }
     },
     "5ea493f6de9c436d9f2f9d9a9f5f69ea": {
      "model_module": "@jupyter-widgets/controls",
      "model_module_version": "1.2.0",
      "model_name": "DescriptionStyleModel",
      "state": {
       "description_width": ""
      }
     },
     "5ec2c267d2874c489a833f1946d14b59": {
      "model_module": "@jupyter-widgets/controls",
      "model_module_version": "1.2.0",
      "model_name": "VBoxModel",
      "state": {
       "_dom_classes": [
        "widget-interact"
       ],
       "children": [
        "IPY_MODEL_abcbc1905c044705a5b6bfdf0f49882c",
        "IPY_MODEL_1b0f6186df1d4035a1aadf33c00e3373",
        "IPY_MODEL_f996f5647e204e6387a3ab88f301e938"
       ],
       "layout": "IPY_MODEL_2996e4a205e748e8bc0e36119d993ed9"
      }
     },
     "69518213fa6541c59431efa7d9764cfc": {
      "model_module": "@jupyter-widgets/base",
      "model_module_version": "1.0.0",
      "model_name": "LayoutModel",
      "state": {}
     },
     "696a2df53e744f119e364c4a8ac6a19e": {
      "model_module": "@jupyter-widgets/base",
      "model_module_version": "1.0.0",
      "model_name": "LayoutModel",
      "state": {}
     },
     "6e34b4dd9b614bc68bd67a411c9b7a0d": {
      "model_module": "@jupyter-widgets/controls",
      "model_module_version": "1.2.0",
      "model_name": "ButtonStyleModel",
      "state": {}
     },
     "78dbc940abc4474d9e34a372769d3d47": {
      "model_module": "@jupyter-widgets/base",
      "model_module_version": "1.0.0",
      "model_name": "LayoutModel",
      "state": {}
     },
     "7968326ebbc94bad858e63ca0d124c39": {
      "model_module": "@jupyter-widgets/base",
      "model_module_version": "1.0.0",
      "model_name": "LayoutModel",
      "state": {}
     },
     "89878bc3fc0c4e9291e16ad1bf69f0ef": {
      "model_module": "@jupyter-widgets/controls",
      "model_module_version": "1.2.0",
      "model_name": "ButtonStyleModel",
      "state": {}
     },
     "987ac36c635046c49f14a8f8573f209e": {
      "model_module": "@jupyter-widgets/controls",
      "model_module_version": "1.2.0",
      "model_name": "ButtonModel",
      "state": {
       "description": "Run Interact",
       "layout": "IPY_MODEL_e8bcf9cde237449794f9c9f7dbd34978",
       "style": "IPY_MODEL_05a4c9ec72e04100be4aef15cd483cb5"
      }
     },
     "9b679a5ed434491dab64eea3e2346d2c": {
      "model_module": "@jupyter-widgets/controls",
      "model_module_version": "1.2.0",
      "model_name": "ButtonStyleModel",
      "state": {}
     },
     "a2672a154c5d454794d2cc1d72cc57d3": {
      "model_module": "@jupyter-widgets/output",
      "model_module_version": "1.0.0",
      "model_name": "OutputModel",
      "state": {
       "layout": "IPY_MODEL_11631cf39e0f4ec58ee7fb490b8197b4"
      }
     },
     "a96d4666bc9341b4921a4f814b5f305d": {
      "model_module": "@jupyter-widgets/controls",
      "model_module_version": "1.2.0",
      "model_name": "ButtonStyleModel",
      "state": {}
     },
     "aadc74faec104567b32a4478af7412f8": {
      "model_module": "@jupyter-widgets/controls",
      "model_module_version": "1.2.0",
      "model_name": "VBoxModel",
      "state": {
       "_dom_classes": [
        "widget-interact"
       ],
       "children": [
        "IPY_MODEL_b7c0225cceae4329a030372811ea979d",
        "IPY_MODEL_2282f1c1803b48bf979dc9de6538a6fa"
       ],
       "layout": "IPY_MODEL_3538b78a8ca142f2bee8cddbb36b2442"
      }
     },
     "abcbc1905c044705a5b6bfdf0f49882c": {
      "model_module": "@jupyter-widgets/controls",
      "model_module_version": "1.2.0",
      "model_name": "TextModel",
      "state": {
       "description": "username",
       "layout": "IPY_MODEL_e9c8fe99c4124f09b619b7a700522df5",
       "style": "IPY_MODEL_5ea493f6de9c436d9f2f9d9a9f5f69ea"
      }
     },
     "b777645d6220487abe8236fb6fbe5120": {
      "model_module": "@jupyter-widgets/base",
      "model_module_version": "1.0.0",
      "model_name": "LayoutModel",
      "state": {}
     },
     "b7c0225cceae4329a030372811ea979d": {
      "model_module": "@jupyter-widgets/controls",
      "model_module_version": "1.2.0",
      "model_name": "ButtonModel",
      "state": {
       "description": "Run Interact",
       "layout": "IPY_MODEL_78dbc940abc4474d9e34a372769d3d47",
       "style": "IPY_MODEL_9b679a5ed434491dab64eea3e2346d2c"
      }
     },
     "bf04c4a72ea4461486923a5e1c8f20dc": {
      "model_module": "@jupyter-widgets/base",
      "model_module_version": "1.0.0",
      "model_name": "LayoutModel",
      "state": {}
     },
     "c12c81d3c8cc4704a506a2edacdf0e4e": {
      "model_module": "@jupyter-widgets/controls",
      "model_module_version": "1.2.0",
      "model_name": "TextModel",
      "state": {
       "description": "username",
       "layout": "IPY_MODEL_f48b86ebe7874a65a165af4896937a19",
       "style": "IPY_MODEL_2c5b9d30b71e471883d99b50ede78a50",
       "value": "checkit"
      }
     },
     "c5decc7da3574b76bffd383dbca26948": {
      "model_module": "@jupyter-widgets/controls",
      "model_module_version": "1.2.0",
      "model_name": "VBoxModel",
      "state": {
       "_dom_classes": [
        "widget-interact"
       ],
       "children": [
        "IPY_MODEL_df140a8ff3294d15b1eff0cf5d8e621f",
        "IPY_MODEL_e6f9e6d61dc5406d822359a42cefc899",
        "IPY_MODEL_e69c815e341e46418534b2c7119479b8"
       ],
       "layout": "IPY_MODEL_e957299ef6fd4769a8f6682c18a0f0b7"
      }
     },
     "d2a3b2cec0a04021b74b2df6bc6b405a": {
      "model_module": "@jupyter-widgets/base",
      "model_module_version": "1.0.0",
      "model_name": "LayoutModel",
      "state": {}
     },
     "d840acea1f9246408f77655315fbe268": {
      "model_module": "@jupyter-widgets/base",
      "model_module_version": "1.0.0",
      "model_name": "LayoutModel",
      "state": {}
     },
     "df140a8ff3294d15b1eff0cf5d8e621f": {
      "model_module": "@jupyter-widgets/controls",
      "model_module_version": "1.2.0",
      "model_name": "TextModel",
      "state": {
       "description": "username",
       "layout": "IPY_MODEL_3e5a9b7c8937461599116356de004c1b",
       "style": "IPY_MODEL_47613df6606f4e9caa6ac9a2cc3109ec"
      }
     },
     "e0b39f7f3dbf4f81bff68e7a4df63721": {
      "model_module": "@jupyter-widgets/output",
      "model_module_version": "1.0.0",
      "model_name": "OutputModel",
      "state": {
       "layout": "IPY_MODEL_696a2df53e744f119e364c4a8ac6a19e"
      }
     },
     "e1d22905ce6c4426b0bdf3328495db44": {
      "model_module": "@jupyter-widgets/base",
      "model_module_version": "1.0.0",
      "model_name": "LayoutModel",
      "state": {}
     },
     "e69c815e341e46418534b2c7119479b8": {
      "model_module": "@jupyter-widgets/output",
      "model_module_version": "1.0.0",
      "model_name": "OutputModel",
      "state": {
       "layout": "IPY_MODEL_d2a3b2cec0a04021b74b2df6bc6b405a"
      }
     },
     "e6f9e6d61dc5406d822359a42cefc899": {
      "model_module": "@jupyter-widgets/controls",
      "model_module_version": "1.2.0",
      "model_name": "ButtonModel",
      "state": {
       "description": "Run Interact",
       "layout": "IPY_MODEL_e1d22905ce6c4426b0bdf3328495db44",
       "style": "IPY_MODEL_89878bc3fc0c4e9291e16ad1bf69f0ef"
      }
     },
     "e8bcf9cde237449794f9c9f7dbd34978": {
      "model_module": "@jupyter-widgets/base",
      "model_module_version": "1.0.0",
      "model_name": "LayoutModel",
      "state": {}
     },
     "e957299ef6fd4769a8f6682c18a0f0b7": {
      "model_module": "@jupyter-widgets/base",
      "model_module_version": "1.0.0",
      "model_name": "LayoutModel",
      "state": {}
     },
     "e985b50002ca45b48e9d0fd1bd7be38f": {
      "model_module": "@jupyter-widgets/controls",
      "model_module_version": "1.2.0",
      "model_name": "DescriptionStyleModel",
      "state": {
       "description_width": ""
      }
     },
     "e9c8fe99c4124f09b619b7a700522df5": {
      "model_module": "@jupyter-widgets/base",
      "model_module_version": "1.0.0",
      "model_name": "LayoutModel",
      "state": {}
     },
     "f48b86ebe7874a65a165af4896937a19": {
      "model_module": "@jupyter-widgets/base",
      "model_module_version": "1.0.0",
      "model_name": "LayoutModel",
      "state": {}
     },
     "f996f5647e204e6387a3ab88f301e938": {
      "model_module": "@jupyter-widgets/output",
      "model_module_version": "1.0.0",
      "model_name": "OutputModel",
      "state": {
       "layout": "IPY_MODEL_0171a09ab17c42989d9419818645be49"
      }
     },
     "fa00d413d59a453e9d68a6acfc977456": {
      "model_module": "@jupyter-widgets/controls",
      "model_module_version": "1.2.0",
      "model_name": "ButtonStyleModel",
      "state": {}
     },
     "fa65aac5f18d414db268f46b4b564c54": {
      "model_module": "@jupyter-widgets/base",
      "model_module_version": "1.0.0",
      "model_name": "LayoutModel",
      "state": {}
     }
    },
    "version_major": 2,
    "version_minor": 0
   }
  }
 },
 "nbformat": 4,
 "nbformat_minor": 2
}
